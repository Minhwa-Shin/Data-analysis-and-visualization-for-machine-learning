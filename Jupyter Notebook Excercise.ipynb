{
 "cells": [
  {
   "cell_type": "code",
   "execution_count": 1,
   "id": "291b8d12",
   "metadata": {},
   "outputs": [
    {
     "name": "stdout",
     "output_type": "stream",
     "text": [
      "5\n"
     ]
    }
   ],
   "source": [
    "x = 5\n",
    "print(x)\n",
    "\n",
    "y = 17"
   ]
  },
  {
   "cell_type": "code",
   "execution_count": 2,
   "id": "9f837976",
   "metadata": {},
   "outputs": [
    {
     "name": "stdout",
     "output_type": "stream",
     "text": [
      "5\n"
     ]
    }
   ],
   "source": [
    "print(x)"
   ]
  },
  {
   "cell_type": "code",
   "execution_count": 3,
   "id": "485a5827",
   "metadata": {},
   "outputs": [
    {
     "name": "stdout",
     "output_type": "stream",
     "text": [
      "17\n"
     ]
    }
   ],
   "source": [
    "print(y)"
   ]
  },
  {
   "cell_type": "code",
   "execution_count": 4,
   "id": "bc910252",
   "metadata": {},
   "outputs": [],
   "source": [
    "y = 50"
   ]
  },
  {
   "cell_type": "markdown",
   "id": "5250c420",
   "metadata": {},
   "source": [
    "# 가장 큰 제목\n",
    "## 두번째로 큰 제목\n",
    "### 세번째로 큰 제목\n",
    "일반 글"
   ]
  },
  {
   "cell_type": "markdown",
   "id": "2adac7ab",
   "metadata": {},
   "source": [
    "**굵게** *이탤릭*"
   ]
  },
  {
   "cell_type": "markdown",
   "id": "a73778a8",
   "metadata": {},
   "source": [
    "리스트\n",
    "* list_1\n",
    "* list_2\n",
    "* list_3"
   ]
  },
  {
   "cell_type": "markdown",
   "id": "2ed5b07f",
   "metadata": {},
   "source": [
    "번호 목록\n",
    "1. 1번\n",
    "2. 2번\n",
    "3. 3번"
   ]
  },
  {
   "cell_type": "markdown",
   "id": "0750488b",
   "metadata": {},
   "source": [
    "## 줄바꿈\n",
    "줄바꿈은 space바를 2번 입력  \n",
    "1번째 줄  \n",
    "2번쨰 줄  "
   ]
  },
  {
   "cell_type": "markdown",
   "id": "c4494162",
   "metadata": {},
   "source": [
    "# 문단바꿈\n",
    "문단바꿈은 enter키를 2번 입력\n",
    "\n",
    "1번째 문단\n",
    "\n",
    "2번째 문단\n",
    "\n"
   ]
  },
  {
   "cell_type": "markdown",
   "id": "306c984d",
   "metadata": {},
   "source": [
    "이탤릭체는 *별표*나 _언더바_로\n",
    "\n",
    "볼드체는 **별표 두 개**나 __언더바 두개__로\n",
    "\n",
    "**별표와 _언더바_**를 섞어서\n",
    "\n",
    "취소선은 ~~물결~~로\n",
    "\n"
   ]
  },
  {
   "cell_type": "markdown",
   "id": "f139bf0d",
   "metadata": {},
   "source": [
    "## 링크\n",
    "[codeit](https://www.codeit.kr)"
   ]
  },
  {
   "cell_type": "markdown",
   "id": "263ccf6a",
   "metadata": {},
   "source": [
    "## 이미지\n",
    "\n",
    "![codeit](https://www.codeit.kr/static/images/brand/logo_original.png)"
   ]
  },
  {
   "cell_type": "markdown",
   "id": "cb77c86f",
   "metadata": {},
   "source": [
    "## 코드 블록\n",
    "```python\n",
    "print(\"Hello World!\")\n",
    "for i in range(10):\n",
    "    print(i)\n",
    "```"
   ]
  },
  {
   "cell_type": "markdown",
   "id": "d8f74bae",
   "metadata": {},
   "source": [
    "## 인라인 코드\n",
    "\n",
    "값을 출력하고 싶으면 `print` 함수를 사용하면 되겠죠?"
   ]
  },
  {
   "cell_type": "markdown",
   "id": "f8638351",
   "metadata": {},
   "source": [
    "## 구분선\n",
    "구분선 위\n",
    "\n",
    "---\n",
    "\n",
    "구분선 아래"
   ]
  },
  {
   "cell_type": "code",
   "execution_count": 5,
   "id": "36a187b8",
   "metadata": {},
   "outputs": [
    {
     "data": {
      "text/plain": [
       "'C:\\\\'"
      ]
     },
     "execution_count": 5,
     "metadata": {},
     "output_type": "execute_result"
    }
   ],
   "source": [
    "import os\n",
    "os.getcwd()"
   ]
  },
  {
   "cell_type": "code",
   "execution_count": 8,
   "id": "919dbae6",
   "metadata": {},
   "outputs": [
    {
     "data": {
      "text/html": [
       "<div>\n",
       "<style scoped>\n",
       "    .dataframe tbody tr th:only-of-type {\n",
       "        vertical-align: middle;\n",
       "    }\n",
       "\n",
       "    .dataframe tbody tr th {\n",
       "        vertical-align: top;\n",
       "    }\n",
       "\n",
       "    .dataframe thead th {\n",
       "        text-align: right;\n",
       "    }\n",
       "</style>\n",
       "<table border=\"1\" class=\"dataframe\">\n",
       "  <thead>\n",
       "    <tr style=\"text-align: right;\">\n",
       "      <th></th>\n",
       "      <th>Name</th>\n",
       "      <th>Position</th>\n",
       "      <th>Born</th>\n",
       "      <th>Number</th>\n",
       "      <th>Nationality</th>\n",
       "    </tr>\n",
       "  </thead>\n",
       "  <tbody>\n",
       "    <tr>\n",
       "      <th>0</th>\n",
       "      <td>Roberto Firmino</td>\n",
       "      <td>FW</td>\n",
       "      <td>1991</td>\n",
       "      <td>no. 9</td>\n",
       "      <td>Brazil</td>\n",
       "    </tr>\n",
       "    <tr>\n",
       "      <th>1</th>\n",
       "      <td>Sadio Mane</td>\n",
       "      <td>FW</td>\n",
       "      <td>1992</td>\n",
       "      <td>no. 10</td>\n",
       "      <td>Senegal</td>\n",
       "    </tr>\n",
       "    <tr>\n",
       "      <th>2</th>\n",
       "      <td>Mohamed Salah</td>\n",
       "      <td>FW</td>\n",
       "      <td>1992</td>\n",
       "      <td>no. 11</td>\n",
       "      <td>Egypt</td>\n",
       "    </tr>\n",
       "    <tr>\n",
       "      <th>3</th>\n",
       "      <td>Joe Gomez</td>\n",
       "      <td>DF</td>\n",
       "      <td>1997</td>\n",
       "      <td>no. 12</td>\n",
       "      <td>England</td>\n",
       "    </tr>\n",
       "    <tr>\n",
       "      <th>4</th>\n",
       "      <td>Alisson Becker</td>\n",
       "      <td>GK</td>\n",
       "      <td>1992</td>\n",
       "      <td>no. 13</td>\n",
       "      <td>Brazil</td>\n",
       "    </tr>\n",
       "  </tbody>\n",
       "</table>\n",
       "</div>"
      ],
      "text/plain": [
       "              Name Position  Born  Number Nationality\n",
       "0  Roberto Firmino       FW  1991   no. 9      Brazil\n",
       "1       Sadio Mane       FW  1992  no. 10     Senegal\n",
       "2    Mohamed Salah       FW  1992  no. 11       Egypt\n",
       "3        Joe Gomez       DF  1997  no. 12     England\n",
       "4   Alisson Becker       GK  1992  no. 13      Brazil"
      ]
     },
     "execution_count": 8,
     "metadata": {},
     "output_type": "execute_result"
    }
   ],
   "source": [
    "import pandas as pd\n",
    "df = pd.read_csv('data/liverpool.csv')\n",
    "df"
   ]
  },
  {
   "cell_type": "code",
   "execution_count": 9,
   "id": "caf406ab",
   "metadata": {},
   "outputs": [
    {
     "name": "stdout",
     "output_type": "stream",
     "text": [
      "              Name Position  Born  Number Nationality\n",
      "0  Roberto Firmino       FW  1991   no. 9      Brazil\n",
      "1       Sadio Mane       FW  1992  no. 10     Senegal\n",
      "2    Mohamed Salah       FW  1992  no. 11       Egypt\n",
      "3        Joe Gomez       DF  1997  no. 12     England\n",
      "4   Alisson Becker       GK  1992  no. 13      Brazil\n"
     ]
    }
   ],
   "source": [
    "print(df)"
   ]
  }
 ],
 "metadata": {
  "kernelspec": {
   "display_name": "Python 3",
   "language": "python",
   "name": "python3"
  },
  "language_info": {
   "codemirror_mode": {
    "name": "ipython",
    "version": 3
   },
   "file_extension": ".py",
   "mimetype": "text/x-python",
   "name": "python",
   "nbconvert_exporter": "python",
   "pygments_lexer": "ipython3",
   "version": "3.9.1"
  }
 },
 "nbformat": 4,
 "nbformat_minor": 5
}
