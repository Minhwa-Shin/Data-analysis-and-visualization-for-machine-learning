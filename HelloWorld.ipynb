{
 "cells": [
  {
   "cell_type": "markdown",
   "id": "4c202770",
   "metadata": {},
   "source": [
    "## Hello,World! 출력\n",
    "print함수로 Hello,World!를 출력합니다."
   ]
  },
  {
   "cell_type": "code",
   "execution_count": null,
   "id": "11cd5e8d",
   "metadata": {},
   "outputs": [],
   "source": [
    "print('Hello, World!')\n",
    "\n",
    "print('jupyter notebook')\n",
    "\n",
    "print(3+5)"
   ]
  },
  {
   "cell_type": "markdown",
   "id": "07c97a64",
   "metadata": {},
   "source": [
    "# Markdown 사용\n",
    "# # 1개 마크다운 글자 크기\n",
    "## # 2개 마크다운 글자 크기\n",
    "### # 3개 마크다운 글자 크기\n",
    "\n",
    "*이탤릭체* : * 1개를 이탤릭체로 변경하고 싶은 부분의 시작과 끝에 넣어준다.\n",
    "\n",
    "**볼드** : * 2개를 볼드체로 변경하고 싶은 부분의 시작과 끝에 넣어준다.\n",
    "\n",
    "- 불릿입력 : '-'를 입력하고 띄어쓰기만 하면 불릿이 입력된다.\n",
    "    - 하위단위 불릿입력: 들여쓰기 후 '-'를 입력하면 하위단위 불릿이 입력된다.\n",
    "        - 한번 더\n",
    "\n",
    "1. 순서가 의미 있는 리스트를 만들고자 하는 경우\n",
    "2. 숫자와 .을 써서 작성\n",
    "\n",
    "> 인용구 입력 : '>'로 시작한다.\n",
    "\n",
    "$Y=X+10$ : 수식은 '$'으로 감싼다.\n",
    "\n",
    "[구글](https://www.google.com/)\n",
    "\n",
    "링크:'[]()'\n",
    "[]와 () 사이에 띄어쓰기가 없어야 한다.\n",
    "\n",
    "```python\n",
    "print(\"Test\")\n",
    "```\n",
    "위와 같이 코드 형식으로 출력하기 위해서는 '~'과 같이 있는 '`'을 3번 입력하고 언어를 명시한 뒤 감싸준다.\n",
    "\n",
    "테이블 작성 예제\n",
    "\n",
    "이름|나이\n",
    "--------------|------------------\n",
    "홍길동|15세\n",
    "임꺽정|20세"
   ]
  }
 ],
 "metadata": {
  "kernelspec": {
   "display_name": "Python 3",
   "language": "python",
   "name": "python3"
  },
  "language_info": {
   "codemirror_mode": {
    "name": "ipython",
    "version": 3
   },
   "file_extension": ".py",
   "mimetype": "text/x-python",
   "name": "python",
   "nbconvert_exporter": "python",
   "pygments_lexer": "ipython3",
   "version": "3.9.1"
  }
 },
 "nbformat": 4,
 "nbformat_minor": 5
}
